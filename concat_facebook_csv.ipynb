{
 "cells": [
  {
   "cell_type": "code",
   "execution_count": 1,
   "id": "eb54b7b1",
   "metadata": {},
   "outputs": [
    {
     "name": "stdout",
     "output_type": "stream",
     "text": [
      "Fichier chargé : dataset_facebook-pages-scraper_2025-05-19_18-45-04-626.csv (180 lignes)\n",
      "Fichier chargé : dataset_facebook-pages-scraper_2025-05-19_19-10-57-318.csv (171 lignes)\n",
      "Fichier chargé : dataset_facebook-pages-scraper_2025-05-19_19-18-03-151.csv (195 lignes)\n",
      "Fichier chargé : dataset_facebook-pages-scraper_2025-05-19_19-24-39-436.csv (177 lignes)\n",
      "Fichier chargé : dataset_facebook-pages-scraper_2025-05-19_19-32-00-621.csv (174 lignes)\n",
      "Fichier chargé : dataset_facebook-pages-scraper_2025-05-19_19-38-21-923.csv (165 lignes)\n",
      "Fichier chargé : dataset_facebook-pages-scraper_2025-05-19_19-45-36-324.csv (162 lignes)\n",
      "Fichier chargé : dataset_facebook-pages-scraper_2025-05-19_19-51-38-595.csv (162 lignes)\n",
      "Fichier chargé : dataset_facebook-pages-scraper_2025-05-19_20-05-39-175.csv (147 lignes)\n",
      "Fichier chargé : dataset_facebook-pages-scraper_2025-05-19_20-12-40-785.csv (171 lignes)\n",
      "Fichier chargé : dataset_facebook-pages-scraper_2025-05-19_20-18-26-019.csv (180 lignes)\n",
      "\n",
      "Tous les fichiers ont été concaténés avec succès.\n",
      "\n"
     ]
    },
    {
     "data": {
      "text/html": [
       "<div>\n",
       "<style scoped>\n",
       "    .dataframe tbody tr th:only-of-type {\n",
       "        vertical-align: middle;\n",
       "    }\n",
       "\n",
       "    .dataframe tbody tr th {\n",
       "        vertical-align: top;\n",
       "    }\n",
       "\n",
       "    .dataframe thead th {\n",
       "        text-align: right;\n",
       "    }\n",
       "</style>\n",
       "<table border=\"1\" class=\"dataframe\">\n",
       "  <thead>\n",
       "    <tr style=\"text-align: right;\">\n",
       "      <th></th>\n",
       "      <th>caption</th>\n",
       "      <th>facebook_id</th>\n",
       "      <th>link</th>\n",
       "      <th>media_url/0</th>\n",
       "      <th>media_url/1</th>\n",
       "      <th>media_url/2</th>\n",
       "      <th>media_url/3</th>\n",
       "      <th>media_url/4</th>\n",
       "      <th>page_ad_library/id</th>\n",
       "      <th>page_ad_library/is_business_page_active</th>\n",
       "      <th>...</th>\n",
       "      <th>user/profile_url</th>\n",
       "      <th>user/story_bucket/nodes/0/first_story_to_show</th>\n",
       "      <th>user/story_bucket/nodes/0/id</th>\n",
       "      <th>user/story_bucket/nodes/0/should_show_close_friend_badge</th>\n",
       "      <th>user/url</th>\n",
       "      <th>user/work_foreign_entity_info</th>\n",
       "      <th>user/work_info</th>\n",
       "      <th>video_thumbnail</th>\n",
       "      <th>video_url</th>\n",
       "      <th>video_view_count</th>\n",
       "    </tr>\n",
       "  </thead>\n",
       "  <tbody>\n",
       "    <tr>\n",
       "      <th>0</th>\n",
       "      <td>🔴 بســــبب \" سوء التدبير \" ▫️وزير التعليم العا...</td>\n",
       "      <td>100057135233030</td>\n",
       "      <td>NaN</td>\n",
       "      <td>NaN</td>\n",
       "      <td>NaN</td>\n",
       "      <td>NaN</td>\n",
       "      <td>NaN</td>\n",
       "      <td>NaN</td>\n",
       "      <td>102727854740896</td>\n",
       "      <td>False</td>\n",
       "      <td>...</td>\n",
       "      <td>NaN</td>\n",
       "      <td>NaN</td>\n",
       "      <td>NaN</td>\n",
       "      <td>NaN</td>\n",
       "      <td>NaN</td>\n",
       "      <td>NaN</td>\n",
       "      <td>NaN</td>\n",
       "      <td>NaN</td>\n",
       "      <td>NaN</td>\n",
       "      <td>NaN</td>\n",
       "    </tr>\n",
       "    <tr>\n",
       "      <th>1</th>\n",
       "      <td>🔴 دفـــاعاً عن الحــق في الوظيفة العمومية ⚖️▫️...</td>\n",
       "      <td>100057135233030</td>\n",
       "      <td>NaN</td>\n",
       "      <td>https://scontent.fosu2-1.fna.fbcdn.net/v/t39.3...</td>\n",
       "      <td>NaN</td>\n",
       "      <td>NaN</td>\n",
       "      <td>NaN</td>\n",
       "      <td>NaN</td>\n",
       "      <td>102727854740896</td>\n",
       "      <td>False</td>\n",
       "      <td>...</td>\n",
       "      <td>https://www.facebook.com/tawjihhoussam</td>\n",
       "      <td>NaN</td>\n",
       "      <td>1.150588e+14</td>\n",
       "      <td>False</td>\n",
       "      <td>https://www.facebook.com/tawjihhoussam</td>\n",
       "      <td>NaN</td>\n",
       "      <td>NaN</td>\n",
       "      <td>NaN</td>\n",
       "      <td>NaN</td>\n",
       "      <td>NaN</td>\n",
       "    </tr>\n",
       "    <tr>\n",
       "      <th>2</th>\n",
       "      <td>🔴طلبة الكلية متعددة التخصصات بالسمارة▫️ يقاطــ...</td>\n",
       "      <td>100057135233030</td>\n",
       "      <td>NaN</td>\n",
       "      <td>https://scontent.fosu2-1.fna.fbcdn.net/v/t39.3...</td>\n",
       "      <td>NaN</td>\n",
       "      <td>NaN</td>\n",
       "      <td>NaN</td>\n",
       "      <td>NaN</td>\n",
       "      <td>102727854740896</td>\n",
       "      <td>False</td>\n",
       "      <td>...</td>\n",
       "      <td>https://www.facebook.com/tawjihhoussam</td>\n",
       "      <td>NaN</td>\n",
       "      <td>1.150588e+14</td>\n",
       "      <td>False</td>\n",
       "      <td>https://www.facebook.com/tawjihhoussam</td>\n",
       "      <td>NaN</td>\n",
       "      <td>NaN</td>\n",
       "      <td>NaN</td>\n",
       "      <td>NaN</td>\n",
       "      <td>NaN</td>\n",
       "    </tr>\n",
       "    <tr>\n",
       "      <th>3</th>\n",
       "      <td>🔴 وزارة التعليم العالي تدخل على خط \"قضية الماس...</td>\n",
       "      <td>100057135233030</td>\n",
       "      <td>NaN</td>\n",
       "      <td>NaN</td>\n",
       "      <td>NaN</td>\n",
       "      <td>NaN</td>\n",
       "      <td>NaN</td>\n",
       "      <td>NaN</td>\n",
       "      <td>102727854740896</td>\n",
       "      <td>False</td>\n",
       "      <td>...</td>\n",
       "      <td>NaN</td>\n",
       "      <td>NaN</td>\n",
       "      <td>NaN</td>\n",
       "      <td>NaN</td>\n",
       "      <td>NaN</td>\n",
       "      <td>NaN</td>\n",
       "      <td>NaN</td>\n",
       "      <td>NaN</td>\n",
       "      <td>NaN</td>\n",
       "      <td>NaN</td>\n",
       "    </tr>\n",
       "    <tr>\n",
       "      <th>4</th>\n",
       "      <td>✅ غـــداً الإثنيـــن 19 ماي 2025▫️سيجتاز أول ف...</td>\n",
       "      <td>100057135233030</td>\n",
       "      <td>NaN</td>\n",
       "      <td>https://scontent-iad3-2.xx.fbcdn.net/v/t39.308...</td>\n",
       "      <td>NaN</td>\n",
       "      <td>NaN</td>\n",
       "      <td>NaN</td>\n",
       "      <td>NaN</td>\n",
       "      <td>102727854740896</td>\n",
       "      <td>False</td>\n",
       "      <td>...</td>\n",
       "      <td>https://www.facebook.com/tawjihhoussam</td>\n",
       "      <td>NaN</td>\n",
       "      <td>1.150588e+14</td>\n",
       "      <td>False</td>\n",
       "      <td>https://www.facebook.com/tawjihhoussam</td>\n",
       "      <td>NaN</td>\n",
       "      <td>NaN</td>\n",
       "      <td>NaN</td>\n",
       "      <td>NaN</td>\n",
       "      <td>NaN</td>\n",
       "    </tr>\n",
       "  </tbody>\n",
       "</table>\n",
       "<p>5 rows × 53 columns</p>\n",
       "</div>"
      ],
      "text/plain": [
       "                                             caption      facebook_id link  \\\n",
       "0  🔴 بســــبب \" سوء التدبير \" ▫️وزير التعليم العا...  100057135233030  NaN   \n",
       "1  🔴 دفـــاعاً عن الحــق في الوظيفة العمومية ⚖️▫️...  100057135233030  NaN   \n",
       "2  🔴طلبة الكلية متعددة التخصصات بالسمارة▫️ يقاطــ...  100057135233030  NaN   \n",
       "3  🔴 وزارة التعليم العالي تدخل على خط \"قضية الماس...  100057135233030  NaN   \n",
       "4  ✅ غـــداً الإثنيـــن 19 ماي 2025▫️سيجتاز أول ف...  100057135233030  NaN   \n",
       "\n",
       "                                         media_url/0 media_url/1 media_url/2  \\\n",
       "0                                                NaN         NaN         NaN   \n",
       "1  https://scontent.fosu2-1.fna.fbcdn.net/v/t39.3...         NaN         NaN   \n",
       "2  https://scontent.fosu2-1.fna.fbcdn.net/v/t39.3...         NaN         NaN   \n",
       "3                                                NaN         NaN         NaN   \n",
       "4  https://scontent-iad3-2.xx.fbcdn.net/v/t39.308...         NaN         NaN   \n",
       "\n",
       "  media_url/3 media_url/4  page_ad_library/id  \\\n",
       "0         NaN         NaN     102727854740896   \n",
       "1         NaN         NaN     102727854740896   \n",
       "2         NaN         NaN     102727854740896   \n",
       "3         NaN         NaN     102727854740896   \n",
       "4         NaN         NaN     102727854740896   \n",
       "\n",
       "   page_ad_library/is_business_page_active  ...  \\\n",
       "0                                    False  ...   \n",
       "1                                    False  ...   \n",
       "2                                    False  ...   \n",
       "3                                    False  ...   \n",
       "4                                    False  ...   \n",
       "\n",
       "                         user/profile_url  \\\n",
       "0                                     NaN   \n",
       "1  https://www.facebook.com/tawjihhoussam   \n",
       "2  https://www.facebook.com/tawjihhoussam   \n",
       "3                                     NaN   \n",
       "4  https://www.facebook.com/tawjihhoussam   \n",
       "\n",
       "  user/story_bucket/nodes/0/first_story_to_show  user/story_bucket/nodes/0/id  \\\n",
       "0                                           NaN                           NaN   \n",
       "1                                           NaN                  1.150588e+14   \n",
       "2                                           NaN                  1.150588e+14   \n",
       "3                                           NaN                           NaN   \n",
       "4                                           NaN                  1.150588e+14   \n",
       "\n",
       "  user/story_bucket/nodes/0/should_show_close_friend_badge  \\\n",
       "0                                                NaN         \n",
       "1                                              False         \n",
       "2                                              False         \n",
       "3                                                NaN         \n",
       "4                                              False         \n",
       "\n",
       "                                 user/url user/work_foreign_entity_info  \\\n",
       "0                                     NaN                           NaN   \n",
       "1  https://www.facebook.com/tawjihhoussam                           NaN   \n",
       "2  https://www.facebook.com/tawjihhoussam                           NaN   \n",
       "3                                     NaN                           NaN   \n",
       "4  https://www.facebook.com/tawjihhoussam                           NaN   \n",
       "\n",
       "   user/work_info video_thumbnail  video_url video_view_count  \n",
       "0             NaN             NaN        NaN              NaN  \n",
       "1             NaN             NaN        NaN              NaN  \n",
       "2             NaN             NaN        NaN              NaN  \n",
       "3             NaN             NaN        NaN              NaN  \n",
       "4             NaN             NaN        NaN              NaN  \n",
       "\n",
       "[5 rows x 53 columns]"
      ]
     },
     "metadata": {},
     "output_type": "display_data"
    },
    {
     "name": "stdout",
     "output_type": "stream",
     "text": [
      "Colonnes disponibles :\n",
      "['caption', 'facebook_id', 'link', 'media_url/0', 'media_url/1', 'media_url/2', 'media_url/3', 'media_url/4', 'page_ad_library/id', 'page_ad_library/is_business_page_active', 'page_id', 'page_name', 'playable_duration_in_ms', 'post_date', 'post_id', 'post_url', 'share_count', 'thumbnail', 'timestamp', 'top_level_url', 'total_comment_count', 'total_reactions/Angry', 'total_reactions/Care', 'total_reactions/Haha', 'total_reactions/Like', 'total_reactions/Love', 'total_reactions/Sad', 'total_reactions/Wow', 'user', 'user/__isActor', 'user/__isEntity', 'user/__typename', 'user/answer_agent_group_id', 'user/delegate_page/id', 'user/delegate_page/is_business_page_active', 'user/id', 'user/is_additional_profile_plus', 'user/live_video_for_comet_live_ring', 'user/name', 'user/profile_picture/height', 'user/profile_picture/scale', 'user/profile_picture/uri', 'user/profile_picture/width', 'user/profile_url', 'user/story_bucket/nodes/0/first_story_to_show', 'user/story_bucket/nodes/0/id', 'user/story_bucket/nodes/0/should_show_close_friend_badge', 'user/url', 'user/work_foreign_entity_info', 'user/work_info', 'video_thumbnail', 'video_url', 'video_view_count']\n",
      "Nombre total de lignes : 1884\n",
      "Données sauvegardées dans : D:\\PFE\\scrap_post\\housam_tawjih\\merged_facebook_dataset.csv\n"
     ]
    }
   ],
   "source": [
    "import pandas as pd\n",
    "import glob\n",
    "import os\n",
    "\n",
    "# 📁 Chemin du dossier contenant les CSV\n",
    "folder_path = r\"D:\\PFE\\scrap_post\\housam_tawjih\"\n",
    "\n",
    "# 🔍 Récupérer tous les fichiers CSV correspondant au pattern\n",
    "csv_files = glob.glob(os.path.join(folder_path, \"dataset_facebook-pages-scraper_*.csv\"))\n",
    "\n",
    "#  Concaténer tous les CSV en un seul DataFrame\n",
    "df_list = []\n",
    "import pandas as pd\n",
    "import glob\n",
    "import os\n",
    "\n",
    "# Chemin du dossier contenant les fichiers CSV\n",
    "folder_path = r\"D:\\PFE\\scrap_post\\housam_tawjih\"\n",
    "\n",
    "# Récupérer la liste des fichiers CSV\n",
    "csv_files = glob.glob(os.path.join(folder_path, \"dataset_facebook-pages-scraper_*.csv\"))\n",
    "\n",
    "# Liste pour stocker les DataFrames\n",
    "df_list = []\n",
    "\n",
    "# Charger tous les fichiers CSV\n",
    "for file in csv_files:\n",
    "    try:\n",
    "        df = pd.read_csv(file)\n",
    "        df_list.append(df)\n",
    "        print(f\"Fichier chargé : {os.path.basename(file)} ({len(df)} lignes)\")\n",
    "    except Exception as e:\n",
    "        print(f\"Erreur lors du chargement de {file} : {e}\")\n",
    "\n",
    "# Concaténer tous les DataFrames\n",
    "if df_list:\n",
    "    full_df = pd.concat(df_list, ignore_index=True)\n",
    "    print(\"\\nTous les fichiers ont été concaténés avec succès.\\n\")\n",
    "\n",
    "    # Afficher les premières lignes du DataFrame\n",
    "    display(full_df.head())\n",
    "\n",
    "    # Afficher les colonnes du DataFrame\n",
    "    print(\"Colonnes disponibles :\")\n",
    "    print(full_df.columns.tolist())\n",
    "\n",
    "    # Afficher le nombre total de lignes\n",
    "    print(f\"Nombre total de lignes : {len(full_df)}\")\n",
    "\n",
    "    # Enregistrer dans un nouveau fichier CSV si besoin\n",
    "    output_path = os.path.join(folder_path, \"merged_facebook_dataset.csv\")\n",
    "    full_df.to_csv(output_path, index=False)\n",
    "    print(f\"Données sauvegardées dans : {output_path}\")\n",
    "else:\n",
    "    print(\"Aucun fichier n'a été chargé.\")\n",
    "\n"
   ]
  },
  {
   "cell_type": "code",
   "execution_count": 2,
   "id": "6c34fab4",
   "metadata": {},
   "outputs": [
    {
     "name": "stdout",
     "output_type": "stream",
     "text": [
      "Nombre total de commentaires : 1090285\n"
     ]
    }
   ],
   "source": [
    "# S'assurer que la colonne est bien nommée\n",
    "full_df.columns = full_df.columns.str.strip()\n",
    "\n",
    "# Vérifier et convertir\n",
    "if 'total_comment_count' in full_df.columns:\n",
    "    full_df['total_comment_count'] = pd.to_numeric(full_df['total_comment_count'], errors='coerce')\n",
    "    total_comments = full_df['total_comment_count'].sum()\n",
    "    print(f\"Nombre total de commentaires : {int(total_comments)}\")\n",
    "else:\n",
    "    print(\"La colonne 'total_comment_count' n'est pas présente.\")\n"
   ]
  },
  {
   "cell_type": "code",
   "execution_count": 3,
   "id": "11f428e9",
   "metadata": {},
   "outputs": [
    {
     "name": "stdout",
     "output_type": "stream",
     "text": [
      "Aperçu des premières lignes du fichier nettoyé :\n"
     ]
    },
    {
     "data": {
      "text/html": [
       "<div>\n",
       "<style scoped>\n",
       "    .dataframe tbody tr th:only-of-type {\n",
       "        vertical-align: middle;\n",
       "    }\n",
       "\n",
       "    .dataframe tbody tr th {\n",
       "        vertical-align: top;\n",
       "    }\n",
       "\n",
       "    .dataframe thead th {\n",
       "        text-align: right;\n",
       "    }\n",
       "</style>\n",
       "<table border=\"1\" class=\"dataframe\">\n",
       "  <thead>\n",
       "    <tr style=\"text-align: right;\">\n",
       "      <th></th>\n",
       "      <th>caption</th>\n",
       "      <th>post_url</th>\n",
       "      <th>total_comment_count</th>\n",
       "      <th>share_count</th>\n",
       "      <th>post_id</th>\n",
       "      <th>post_date</th>\n",
       "      <th>user/profile_url</th>\n",
       "      <th>total_reactions/Care</th>\n",
       "      <th>total_reactions/Angry</th>\n",
       "      <th>total_reactions/Sad</th>\n",
       "      <th>total_reactions/Wow</th>\n",
       "      <th>total_reactions/Haha</th>\n",
       "      <th>total_reactions/Love</th>\n",
       "      <th>total_reactions/Like</th>\n",
       "    </tr>\n",
       "  </thead>\n",
       "  <tbody>\n",
       "    <tr>\n",
       "      <th>0</th>\n",
       "      <td>🔴 بســــبب \" سوء التدبير \" ▫️وزير التعليم العا...</td>\n",
       "      <td>https://www.facebook.com/tawjihhoussam/posts/p...</td>\n",
       "      <td>75</td>\n",
       "      <td>12.0</td>\n",
       "      <td>1231567185424444</td>\n",
       "      <td>Mon May 19 2025 at 15:40</td>\n",
       "      <td>NaN</td>\n",
       "      <td>25</td>\n",
       "      <td>NaN</td>\n",
       "      <td>1.0</td>\n",
       "      <td>7.0</td>\n",
       "      <td>12.0</td>\n",
       "      <td>235</td>\n",
       "      <td>1544</td>\n",
       "    </tr>\n",
       "    <tr>\n",
       "      <th>1</th>\n",
       "      <td>🔴 دفـــاعاً عن الحــق في الوظيفة العمومية ⚖️▫️...</td>\n",
       "      <td>https://www.facebook.com/tawjihhoussam/posts/p...</td>\n",
       "      <td>340</td>\n",
       "      <td>77.0</td>\n",
       "      <td>1231542642093565</td>\n",
       "      <td>Mon May 19 2025 at 14:59</td>\n",
       "      <td>https://www.facebook.com/tawjihhoussam</td>\n",
       "      <td>110</td>\n",
       "      <td>NaN</td>\n",
       "      <td>6.0</td>\n",
       "      <td>1.0</td>\n",
       "      <td>15.0</td>\n",
       "      <td>834</td>\n",
       "      <td>2991</td>\n",
       "    </tr>\n",
       "    <tr>\n",
       "      <th>2</th>\n",
       "      <td>🔴طلبة الكلية متعددة التخصصات بالسمارة▫️ يقاطــ...</td>\n",
       "      <td>https://www.facebook.com/tawjihhoussam/posts/p...</td>\n",
       "      <td>73</td>\n",
       "      <td>14.0</td>\n",
       "      <td>1231462752101554</td>\n",
       "      <td>Mon May 19 2025 at 12:46</td>\n",
       "      <td>https://www.facebook.com/tawjihhoussam</td>\n",
       "      <td>32</td>\n",
       "      <td>1.0</td>\n",
       "      <td>NaN</td>\n",
       "      <td>2.0</td>\n",
       "      <td>2.0</td>\n",
       "      <td>261</td>\n",
       "      <td>1422</td>\n",
       "    </tr>\n",
       "    <tr>\n",
       "      <th>3</th>\n",
       "      <td>🔴 وزارة التعليم العالي تدخل على خط \"قضية الماس...</td>\n",
       "      <td>https://www.facebook.com/tawjihhoussam/posts/p...</td>\n",
       "      <td>362</td>\n",
       "      <td>75.0</td>\n",
       "      <td>1231371252110704</td>\n",
       "      <td>Mon May 19 2025 at 10:0</td>\n",
       "      <td>NaN</td>\n",
       "      <td>46</td>\n",
       "      <td>11.0</td>\n",
       "      <td>24.0</td>\n",
       "      <td>56.0</td>\n",
       "      <td>661.0</td>\n",
       "      <td>362</td>\n",
       "      <td>3439</td>\n",
       "    </tr>\n",
       "    <tr>\n",
       "      <th>4</th>\n",
       "      <td>✅ غـــداً الإثنيـــن 19 ماي 2025▫️سيجتاز أول ف...</td>\n",
       "      <td>https://www.facebook.com/tawjihhoussam/posts/p...</td>\n",
       "      <td>165</td>\n",
       "      <td>17.0</td>\n",
       "      <td>1230803412167488</td>\n",
       "      <td>Sun May 18 2025 at 14:37</td>\n",
       "      <td>https://www.facebook.com/tawjihhoussam</td>\n",
       "      <td>74</td>\n",
       "      <td>1.0</td>\n",
       "      <td>3.0</td>\n",
       "      <td>NaN</td>\n",
       "      <td>9.0</td>\n",
       "      <td>572</td>\n",
       "      <td>3024</td>\n",
       "    </tr>\n",
       "  </tbody>\n",
       "</table>\n",
       "</div>"
      ],
      "text/plain": [
       "                                             caption  \\\n",
       "0  🔴 بســــبب \" سوء التدبير \" ▫️وزير التعليم العا...   \n",
       "1  🔴 دفـــاعاً عن الحــق في الوظيفة العمومية ⚖️▫️...   \n",
       "2  🔴طلبة الكلية متعددة التخصصات بالسمارة▫️ يقاطــ...   \n",
       "3  🔴 وزارة التعليم العالي تدخل على خط \"قضية الماس...   \n",
       "4  ✅ غـــداً الإثنيـــن 19 ماي 2025▫️سيجتاز أول ف...   \n",
       "\n",
       "                                            post_url  total_comment_count  \\\n",
       "0  https://www.facebook.com/tawjihhoussam/posts/p...                   75   \n",
       "1  https://www.facebook.com/tawjihhoussam/posts/p...                  340   \n",
       "2  https://www.facebook.com/tawjihhoussam/posts/p...                   73   \n",
       "3  https://www.facebook.com/tawjihhoussam/posts/p...                  362   \n",
       "4  https://www.facebook.com/tawjihhoussam/posts/p...                  165   \n",
       "\n",
       "   share_count           post_id                 post_date  \\\n",
       "0         12.0  1231567185424444  Mon May 19 2025 at 15:40   \n",
       "1         77.0  1231542642093565  Mon May 19 2025 at 14:59   \n",
       "2         14.0  1231462752101554  Mon May 19 2025 at 12:46   \n",
       "3         75.0  1231371252110704   Mon May 19 2025 at 10:0   \n",
       "4         17.0  1230803412167488  Sun May 18 2025 at 14:37   \n",
       "\n",
       "                         user/profile_url  total_reactions/Care  \\\n",
       "0                                     NaN                    25   \n",
       "1  https://www.facebook.com/tawjihhoussam                   110   \n",
       "2  https://www.facebook.com/tawjihhoussam                    32   \n",
       "3                                     NaN                    46   \n",
       "4  https://www.facebook.com/tawjihhoussam                    74   \n",
       "\n",
       "   total_reactions/Angry  total_reactions/Sad  total_reactions/Wow  \\\n",
       "0                    NaN                  1.0                  7.0   \n",
       "1                    NaN                  6.0                  1.0   \n",
       "2                    1.0                  NaN                  2.0   \n",
       "3                   11.0                 24.0                 56.0   \n",
       "4                    1.0                  3.0                  NaN   \n",
       "\n",
       "   total_reactions/Haha  total_reactions/Love  total_reactions/Like  \n",
       "0                  12.0                   235                  1544  \n",
       "1                  15.0                   834                  2991  \n",
       "2                   2.0                   261                  1422  \n",
       "3                 661.0                   362                  3439  \n",
       "4                   9.0                   572                  3024  "
      ]
     },
     "metadata": {},
     "output_type": "display_data"
    },
    {
     "name": "stdout",
     "output_type": "stream",
     "text": [
      "Colonnes présentes :\n",
      "['caption', 'post_url', 'total_comment_count', 'share_count', 'post_id', 'post_date', 'user/profile_url', 'total_reactions/Care', 'total_reactions/Angry', 'total_reactions/Sad', 'total_reactions/Wow', 'total_reactions/Haha', 'total_reactions/Love', 'total_reactions/Like']\n"
     ]
    }
   ],
   "source": [
    "import pandas as pd\n",
    "import os\n",
    "from IPython.display import display\n",
    "\n",
    "# Chemin du fichier original\n",
    "file_path = r\"D:\\PFE\\scrap_post\\housam_tawjih\\merged_facebook_dataset.csv\"\n",
    "\n",
    "# Colonnes à garder\n",
    "# Colonnes à garder (ordre inversé)\n",
    "columns_to_keep = [\n",
    "    'caption',\n",
    "    'post_url',\n",
    "    'total_comment_count',\n",
    "    'share_count',\n",
    "    'post_id',\n",
    "    'post_date',\n",
    "    'user/profile_url',\n",
    "    'total_reactions/Care',\n",
    "    'total_reactions/Angry',\n",
    "    'total_reactions/Sad',\n",
    "    'total_reactions/Wow',\n",
    "    'total_reactions/Haha',\n",
    "    'total_reactions/Love',\n",
    "    'total_reactions/Like'\n",
    "]\n",
    "\n",
    "\n",
    "# Charger le fichier CSV\n",
    "df = pd.read_csv(file_path)\n",
    "\n",
    "# Nettoyer les noms de colonnes\n",
    "df.columns = df.columns.str.strip()\n",
    "\n",
    "# Filtrer les colonnes disponibles\n",
    "available_columns = [col for col in columns_to_keep if col in df.columns]\n",
    "df_filtered = df[available_columns]\n",
    "\n",
    "# Sauvegarder le fichier nettoyé\n",
    "output_path = os.path.join(os.path.dirname(file_path), \"merged_facebook_dataset_cleaned.csv\")\n",
    "df_filtered.to_csv(output_path, index=False)\n",
    "\n",
    "# Afficher les premières lignes du DataFrame nettoyé\n",
    "print(\"Aperçu des premières lignes du fichier nettoyé :\")\n",
    "display(df_filtered.head())\n",
    "\n",
    "# Afficher les noms des colonnes\n",
    "print(\"Colonnes présentes :\")\n",
    "print(df_filtered.columns.tolist())\n"
   ]
  },
  {
   "cell_type": "code",
   "execution_count": 4,
   "id": "78d2e3dd",
   "metadata": {},
   "outputs": [
    {
     "name": "stdout",
     "output_type": "stream",
     "text": [
      "Nombre total (cumul) de commentaires : 1090285\n"
     ]
    },
    {
     "name": "stderr",
     "output_type": "stream",
     "text": [
      "C:\\Users\\azizb\\AppData\\Local\\Temp\\ipykernel_35068\\2179288970.py:3: SettingWithCopyWarning: \n",
      "A value is trying to be set on a copy of a slice from a DataFrame.\n",
      "Try using .loc[row_indexer,col_indexer] = value instead\n",
      "\n",
      "See the caveats in the documentation: https://pandas.pydata.org/pandas-docs/stable/user_guide/indexing.html#returning-a-view-versus-a-copy\n",
      "  df_filtered['total_comment_count'] = pd.to_numeric(df_filtered['total_comment_count'], errors='coerce')\n"
     ]
    }
   ],
   "source": [
    "# Assurez-vous que la colonne existe\n",
    "if 'total_comment_count' in df_filtered.columns:\n",
    "    df_filtered['total_comment_count'] = pd.to_numeric(df_filtered['total_comment_count'], errors='coerce')\n",
    "    total_comments = df_filtered['total_comment_count'].sum()\n",
    "    print(f\"Nombre total (cumul) de commentaires : {int(total_comments)}\")\n",
    "else:\n",
    "    print(\"La colonne 'total_comment_count' est absente.\")\n"
   ]
  },
  {
   "cell_type": "code",
   "execution_count": 6,
   "id": "0dbde83f",
   "metadata": {},
   "outputs": [
    {
     "name": "stdout",
     "output_type": "stream",
     "text": [
      "Nombre minimum de commentaires : 1\n",
      "Lien du post avec le minimum :\n",
      "['https://www.facebook.com/tawjihhoussam/posts/pfbid025uWYbRMXFbCdwmY37cnBsxugw1YFRLFoaBLuh5SqEhaHnbgqVmwXSF9cJqxjk5U6l'\n",
      " 'https://www.facebook.com/tawjihhoussam/posts/pfbid0GW36YHncTc65e8Zs1QftmfGvdap8XcKtnZ6HHnZc54DdhGxTxV3N3bgmiDPBThryl']\n",
      "\n",
      "Nombre maximum de commentaires : 8131\n",
      "Lien du post avec le maximum :\n",
      "['https://www.facebook.com/tawjihhoussam/posts/pfbid02qLSYyxKJ6YrDPgeT9NYA8Moh5EHQBNCv6Nm4XFb4fVqGAYfthzKL61wfFBWhwLmsl']\n"
     ]
    },
    {
     "name": "stderr",
     "output_type": "stream",
     "text": [
      "C:\\Users\\azizb\\AppData\\Local\\Temp\\ipykernel_35068\\517808307.py:2: SettingWithCopyWarning: \n",
      "A value is trying to be set on a copy of a slice from a DataFrame.\n",
      "Try using .loc[row_indexer,col_indexer] = value instead\n",
      "\n",
      "See the caveats in the documentation: https://pandas.pydata.org/pandas-docs/stable/user_guide/indexing.html#returning-a-view-versus-a-copy\n",
      "  df_filtered['total_comment_count'] = pd.to_numeric(df_filtered['total_comment_count'], errors='coerce')\n"
     ]
    }
   ],
   "source": [
    "# S'assurer que la colonne est bien numérique\n",
    "df_filtered['total_comment_count'] = pd.to_numeric(df_filtered['total_comment_count'], errors='coerce')\n",
    "\n",
    "# Supprimer les valeurs manquantes\n",
    "comments = df_filtered.dropna(subset=['total_comment_count'])\n",
    "\n",
    "# Identifier le min et le max\n",
    "min_value = comments['total_comment_count'].min()\n",
    "max_value = comments['total_comment_count'].max()\n",
    "\n",
    "# Extraire les lignes correspondantes\n",
    "row_min = comments[comments['total_comment_count'] == min_value]\n",
    "row_max = comments[comments['total_comment_count'] == max_value]\n",
    "\n",
    "# Afficher les URLs correspondantes\n",
    "print(f\"Nombre minimum de commentaires : {int(min_value)}\")\n",
    "print(\"Lien du post avec le minimum :\")\n",
    "print(row_min['post_url'].values)\n",
    "\n",
    "print(f\"\\nNombre maximum de commentaires : {int(max_value)}\")\n",
    "print(\"Lien du post avec le maximum :\")\n",
    "print(row_max['post_url'].values)\n"
   ]
  },
  {
   "cell_type": "code",
   "execution_count": 7,
   "id": "03057a59",
   "metadata": {},
   "outputs": [
    {
     "name": "stdout",
     "output_type": "stream",
     "text": [
      "Les 7 posts avec le moins de commentaires :\n"
     ]
    },
    {
     "name": "stderr",
     "output_type": "stream",
     "text": [
      "C:\\Users\\azizb\\AppData\\Local\\Temp\\ipykernel_35068\\3945267369.py:2: SettingWithCopyWarning: \n",
      "A value is trying to be set on a copy of a slice from a DataFrame.\n",
      "Try using .loc[row_indexer,col_indexer] = value instead\n",
      "\n",
      "See the caveats in the documentation: https://pandas.pydata.org/pandas-docs/stable/user_guide/indexing.html#returning-a-view-versus-a-copy\n",
      "  df_filtered['total_comment_count'] = pd.to_numeric(df_filtered['total_comment_count'], errors='coerce')\n"
     ]
    },
    {
     "data": {
      "text/html": [
       "<div>\n",
       "<style scoped>\n",
       "    .dataframe tbody tr th:only-of-type {\n",
       "        vertical-align: middle;\n",
       "    }\n",
       "\n",
       "    .dataframe tbody tr th {\n",
       "        vertical-align: top;\n",
       "    }\n",
       "\n",
       "    .dataframe thead th {\n",
       "        text-align: right;\n",
       "    }\n",
       "</style>\n",
       "<table border=\"1\" class=\"dataframe\">\n",
       "  <thead>\n",
       "    <tr style=\"text-align: right;\">\n",
       "      <th></th>\n",
       "      <th>total_comment_count</th>\n",
       "      <th>post_url</th>\n",
       "      <th>caption</th>\n",
       "    </tr>\n",
       "  </thead>\n",
       "  <tbody>\n",
       "    <tr>\n",
       "      <th>160</th>\n",
       "      <td>1</td>\n",
       "      <td>https://www.facebook.com/tawjihhoussam/posts/p...</td>\n",
       "      <td>🔴 لجميع الــطلبة الجامعــيين 🎓📊 المرجو الاجابة...</td>\n",
       "    </tr>\n",
       "    <tr>\n",
       "      <th>813</th>\n",
       "      <td>1</td>\n",
       "      <td>https://www.facebook.com/tawjihhoussam/posts/p...</td>\n",
       "      <td>✅لي مزال مدخل دخل معانا لقناة على الوتساب راه ...</td>\n",
       "    </tr>\n",
       "    <tr>\n",
       "      <th>895</th>\n",
       "      <td>6</td>\n",
       "      <td>https://www.facebook.com/tawjihhoussam/posts/p...</td>\n",
       "      <td>🔴 أكاديمية: جهة سوس ماسة ✅تعلن الالتزام بالموا...</td>\n",
       "    </tr>\n",
       "    <tr>\n",
       "      <th>1364</th>\n",
       "      <td>6</td>\n",
       "      <td>https://www.facebook.com/tawjihhoussam/posts/p...</td>\n",
       "      <td>🔴 التســـجيل مفـتوح | licence d’excellence👨🏻‍🎓...</td>\n",
       "    </tr>\n",
       "    <tr>\n",
       "      <th>1384</th>\n",
       "      <td>10</td>\n",
       "      <td>https://www.facebook.com/tawjihhoussam/posts/p...</td>\n",
       "      <td>🔴عاجـــــــــل ..لحاملي البكالوريا◽تم وضع استد...</td>\n",
       "    </tr>\n",
       "    <tr>\n",
       "      <th>1138</th>\n",
       "      <td>11</td>\n",
       "      <td>https://www.facebook.com/tawjihhoussam/posts/p...</td>\n",
       "      <td>🔴 لــوائح المقبولين 💯🚸لاجتياز الشفوي بمعهد الا...</td>\n",
       "    </tr>\n",
       "    <tr>\n",
       "      <th>1363</th>\n",
       "      <td>11</td>\n",
       "      <td>https://www.facebook.com/tawjihhoussam/posts/p...</td>\n",
       "      <td>🔴التســـجيل مفـتوح | licence d’excellence👨🏻‍🎓🎓...</td>\n",
       "    </tr>\n",
       "  </tbody>\n",
       "</table>\n",
       "</div>"
      ],
      "text/plain": [
       "      total_comment_count                                           post_url  \\\n",
       "160                     1  https://www.facebook.com/tawjihhoussam/posts/p...   \n",
       "813                     1  https://www.facebook.com/tawjihhoussam/posts/p...   \n",
       "895                     6  https://www.facebook.com/tawjihhoussam/posts/p...   \n",
       "1364                    6  https://www.facebook.com/tawjihhoussam/posts/p...   \n",
       "1384                   10  https://www.facebook.com/tawjihhoussam/posts/p...   \n",
       "1138                   11  https://www.facebook.com/tawjihhoussam/posts/p...   \n",
       "1363                   11  https://www.facebook.com/tawjihhoussam/posts/p...   \n",
       "\n",
       "                                                caption  \n",
       "160   🔴 لجميع الــطلبة الجامعــيين 🎓📊 المرجو الاجابة...  \n",
       "813   ✅لي مزال مدخل دخل معانا لقناة على الوتساب راه ...  \n",
       "895   🔴 أكاديمية: جهة سوس ماسة ✅تعلن الالتزام بالموا...  \n",
       "1364  🔴 التســـجيل مفـتوح | licence d’excellence👨🏻‍🎓...  \n",
       "1384  🔴عاجـــــــــل ..لحاملي البكالوريا◽تم وضع استد...  \n",
       "1138  🔴 لــوائح المقبولين 💯🚸لاجتياز الشفوي بمعهد الا...  \n",
       "1363  🔴التســـجيل مفـتوح | licence d’excellence👨🏻‍🎓🎓...  "
      ]
     },
     "metadata": {},
     "output_type": "display_data"
    }
   ],
   "source": [
    "# S'assurer que la colonne est bien numérique\n",
    "df_filtered['total_comment_count'] = pd.to_numeric(df_filtered['total_comment_count'], errors='coerce')\n",
    "\n",
    "# Supprimer les lignes avec valeurs manquantes\n",
    "comments = df_filtered.dropna(subset=['total_comment_count'])\n",
    "\n",
    "# Extraire les 7 lignes avec les plus petites valeurs\n",
    "top7_min_comments = comments.nsmallest(7, 'total_comment_count')\n",
    "\n",
    "# Afficher les résultats\n",
    "print(\"Les 7 posts avec le moins de commentaires :\")\n",
    "display(top7_min_comments[['total_comment_count', 'post_url', 'caption']])\n"
   ]
  },
  {
   "cell_type": "code",
   "execution_count": 10,
   "id": "62c8fef5",
   "metadata": {},
   "outputs": [
    {
     "name": "stdout",
     "output_type": "stream",
     "text": [
      "dataset_facebook-comments-scraper_2025-05-20_10-59-37-995.csv : 35135 lignes\n",
      "dataset_facebook-comments-scraper_2025-05-20_11-07-38-097.csv : 77253 lignes\n",
      "dataset_facebook-comments-scraper_2025-05-20_11-18-52-132.csv : 111687 lignes\n",
      "dataset_facebook-comments-scraper_2025-05-20_11-28-15-552.csv : 252771 lignes\n",
      "dataset_facebook-comments-scraper_2025-05-20_11-51-49-089.csv : 37481 lignes\n",
      "dataset_facebook-comments-scraper_2025-05-20_12-04-49-277.csv : 138096 lignes\n",
      "dataset_facebook-comments-scraper_2025-05-20_12-14-20-160.csv : 74146 lignes\n",
      "dataset_facebook-comments-scraper_2025-05-20_12-30-39-290.csv : 132205 lignes\n",
      "dataset_facebook-comments-scraper_2025-05-20_12-43-36-366.csv : 56709 lignes\n",
      "dataset_facebook-comments-scraper_2025-05-20_12-54-51-933.csv : 103740 lignes\n",
      "dataset_facebook-comments-scraper_2025-05-20_13-12-01-137.csv : 239443 lignes\n",
      "dataset_facebook-comments-scraper_2025-05-20_13-23-32-770.csv : 234688 lignes\n",
      "dataset_facebook-comments-scraper_2025-05-20_13-39-52-402.csv : 82059 lignes\n",
      "dataset_facebook-comments-scraper_2025-05-20_13-51-16-697.csv : 180582 lignes\n",
      "dataset_facebook-comments-scraper_2025-05-20_14-03-54-289.csv : 231292 lignes\n",
      "\n",
      "Nombre total cumulé de lignes (tous fichiers) : 1987287\n"
     ]
    }
   ],
   "source": [
    "import os\n",
    "import glob\n",
    "\n",
    "# Dossier contenant les fichiers\n",
    "folder_path = r\"D:\\PFE\\scrap_comments\"\n",
    "\n",
    "# Chercher tous les fichiers correspondants\n",
    "csv_files = glob.glob(os.path.join(folder_path, \"dataset_facebook-comments-scraper_*.csv\"))\n",
    "\n",
    "# Initialiser le total cumulé\n",
    "total_lines = 0\n",
    "\n",
    "# Compter les lignes (hors en-tête) pour chaque fichier\n",
    "for file in csv_files:\n",
    "    with open(file, 'r', encoding='utf-8') as f:\n",
    "        line_count = sum(1 for line in f) - 1  # Exclure l'en-tête\n",
    "        total_lines += line_count\n",
    "        print(f\"{os.path.basename(file)} : {line_count} lignes\")\n",
    "\n",
    "# Afficher le total cumulé\n",
    "print(f\"\\nNombre total cumulé de lignes (tous fichiers) : {total_lines}\")\n"
   ]
  },
  {
   "cell_type": "code",
   "execution_count": 1,
   "id": "b22fa033",
   "metadata": {},
   "outputs": [
    {
     "name": "stdout",
     "output_type": "stream",
     "text": [
      "dataset_facebook-comments-scraper_2025-05-20_10-59-37-995.csv : 3012 lignes\n"
     ]
    },
    {
     "name": "stderr",
     "output_type": "stream",
     "text": [
      "C:\\Users\\azizb\\AppData\\Local\\Temp\\ipykernel_52484\\2505580878.py:17: DtypeWarning: Columns (0,1,7,22,32,35,54,59,69,80,83,87,90,91,92,94,96,97,98,101,102,104,105,106,107,109,110,111,112,114,115,116,117,119,120,121,122,124,125,126,127,129,130,131,132,134,135,136,137,139,140,141,142,144,145,146,147,149,150,171) have mixed types. Specify dtype option on import or set low_memory=False.\n",
      "  df = pd.read_csv(file)\n"
     ]
    },
    {
     "name": "stdout",
     "output_type": "stream",
     "text": [
      "dataset_facebook-comments-scraper_2025-05-20_11-07-38-097.csv : 7569 lignes\n"
     ]
    },
    {
     "name": "stderr",
     "output_type": "stream",
     "text": [
      "C:\\Users\\azizb\\AppData\\Local\\Temp\\ipykernel_52484\\2505580878.py:17: DtypeWarning: Columns (5,7,8,28,29,30,36,55,58,72,74,78,80,84,86,87,89,93,101,102,104,113,114) have mixed types. Specify dtype option on import or set low_memory=False.\n",
      "  df = pd.read_csv(file)\n"
     ]
    },
    {
     "name": "stdout",
     "output_type": "stream",
     "text": [
      "dataset_facebook-comments-scraper_2025-05-20_11-18-52-132.csv : 7446 lignes\n"
     ]
    },
    {
     "name": "stderr",
     "output_type": "stream",
     "text": [
      "C:\\Users\\azizb\\AppData\\Local\\Temp\\ipykernel_52484\\2505580878.py:17: DtypeWarning: Columns (0,1,6,7,8,10,11,17,18,19,20,22,24,25,26,27,28,29,30,32,35,47,48,49,50,51,52,53,54,55,56,57,58,59,69,70,71,75,79,80,81,82,86,88,90,91,92,95,96,98,99,100,101,103,104,105,106,108,109,110,111,113,114,115,116,118,119,120,121,123,124,125,126,128,129,131,132,133,134,135,136,138,139,140,150) have mixed types. Specify dtype option on import or set low_memory=False.\n",
      "  df = pd.read_csv(file)\n"
     ]
    },
    {
     "name": "stdout",
     "output_type": "stream",
     "text": [
      "dataset_facebook-comments-scraper_2025-05-20_11-28-15-552.csv : 10640 lignes\n",
      "dataset_facebook-comments-scraper_2025-05-20_11-51-49-089.csv : 4092 lignes\n"
     ]
    },
    {
     "name": "stderr",
     "output_type": "stream",
     "text": [
      "C:\\Users\\azizb\\AppData\\Local\\Temp\\ipykernel_52484\\2505580878.py:17: DtypeWarning: Columns (0,1,5,7,8,9,11,12,18,19,20,21,25,26,27,29,31,34,46,47,48,49,50,51,52,53,54,55,57,71,75,81,82,84,87,88,90,92,93,94,96,97,99,101,102,103,104,105,106,110) have mixed types. Specify dtype option on import or set low_memory=False.\n",
      "  df = pd.read_csv(file)\n"
     ]
    },
    {
     "name": "stdout",
     "output_type": "stream",
     "text": [
      "dataset_facebook-comments-scraper_2025-05-20_12-04-49-277.csv : 7863 lignes\n"
     ]
    },
    {
     "name": "stderr",
     "output_type": "stream",
     "text": [
      "C:\\Users\\azizb\\AppData\\Local\\Temp\\ipykernel_52484\\2505580878.py:17: DtypeWarning: Columns (27,28,29,35,54,57,71,73,77,79,83,86,87,90,91,94,95,96,98,100,101,102,104,105,107,116,117,128) have mixed types. Specify dtype option on import or set low_memory=False.\n",
      "  df = pd.read_csv(file)\n"
     ]
    },
    {
     "name": "stdout",
     "output_type": "stream",
     "text": [
      "dataset_facebook-comments-scraper_2025-05-20_12-14-20-160.csv : 6430 lignes\n"
     ]
    },
    {
     "name": "stderr",
     "output_type": "stream",
     "text": [
      "C:\\Users\\azizb\\AppData\\Local\\Temp\\ipykernel_52484\\2505580878.py:17: DtypeWarning: Columns (0,1,5,7,8,9,11,12,18,19,20,21,23,25,26,27,28,29,30,31,33,36,48,49,50,51,52,53,54,55,56,57,58,59,60,71,72,73,77,82,84,85,86,90,93,94,95,97,99,100,101,104,105,107,108,109,110,112,113,114,115,117,118,119,120,122,123,124,125,127,128,129,130,132,133,134,135,137,138,139,140,142,143,144,145,147,148,149,150,152,153,154,155,157,158,160,161,162,163,164,165,167,168,169) have mixed types. Specify dtype option on import or set low_memory=False.\n",
      "  df = pd.read_csv(file)\n"
     ]
    },
    {
     "name": "stdout",
     "output_type": "stream",
     "text": [
      "dataset_facebook-comments-scraper_2025-05-20_12-30-39-290.csv : 8330 lignes\n"
     ]
    },
    {
     "name": "stderr",
     "output_type": "stream",
     "text": [
      "C:\\Users\\azizb\\AppData\\Local\\Temp\\ipykernel_52484\\2505580878.py:17: DtypeWarning: Columns (0,1,5,7,8,23,33,56,63,67,78,79,80,81,85,87,89,90,91,94,95,97,98,99,100,102,103,104,105,107,108,109,110,112,113,134) have mixed types. Specify dtype option on import or set low_memory=False.\n",
      "  df = pd.read_csv(file)\n"
     ]
    },
    {
     "name": "stdout",
     "output_type": "stream",
     "text": [
      "dataset_facebook-comments-scraper_2025-05-20_12-43-36-366.csv : 9941 lignes\n"
     ]
    },
    {
     "name": "stderr",
     "output_type": "stream",
     "text": [
      "C:\\Users\\azizb\\AppData\\Local\\Temp\\ipykernel_52484\\2505580878.py:17: DtypeWarning: Columns (0,1,2,4,6,7,8,10,11,12,17,18,19,20,24,25,26,27,28,29,30,32,35,45,47,48,49,50,51,52,53,54,55,56,57,58,59,66,70,71,72,76,81,82,83,84,88,91,92,93,95,97,98,99,103,104,105,106,107,108,110,111,112) have mixed types. Specify dtype option on import or set low_memory=False.\n",
      "  df = pd.read_csv(file)\n"
     ]
    },
    {
     "name": "stdout",
     "output_type": "stream",
     "text": [
      "dataset_facebook-comments-scraper_2025-05-20_12-54-51-933.csv : 8247 lignes\n"
     ]
    },
    {
     "name": "stderr",
     "output_type": "stream",
     "text": [
      "C:\\Users\\azizb\\AppData\\Local\\Temp\\ipykernel_52484\\2505580878.py:17: DtypeWarning: Columns (0,1,7,8,23,33,56,67,78,80,81,82,86,89,90,91,93,95,96,97,100,101,103,104,105,106,108,109,110,111,113,114,115,116,118,119,120,121,123,124,125,126,128,129,130,131,133,134,135,136,138,139,160) have mixed types. Specify dtype option on import or set low_memory=False.\n",
      "  df = pd.read_csv(file)\n"
     ]
    },
    {
     "name": "stdout",
     "output_type": "stream",
     "text": [
      "dataset_facebook-comments-scraper_2025-05-20_13-12-01-137.csv : 16016 lignes\n"
     ]
    },
    {
     "name": "stderr",
     "output_type": "stream",
     "text": [
      "C:\\Users\\azizb\\AppData\\Local\\Temp\\ipykernel_52484\\2505580878.py:17: DtypeWarning: Columns (0,1,5,7,8,23,33,36,55,60,72,80,84,86,87,88,89,92,93,95,97,98,99,101,102,104,105,106,108,109,110,111,113,114,115,116,118,119,120,121,123,124,125,126,128,129,130,131,133,134,135,136,138,139,140,141,143,144,145,146,148,149,150,151,153,154,175) have mixed types. Specify dtype option on import or set low_memory=False.\n",
      "  df = pd.read_csv(file)\n"
     ]
    },
    {
     "name": "stdout",
     "output_type": "stream",
     "text": [
      "dataset_facebook-comments-scraper_2025-05-20_13-23-32-770.csv : 18854 lignes\n"
     ]
    },
    {
     "name": "stderr",
     "output_type": "stream",
     "text": [
      "C:\\Users\\azizb\\AppData\\Local\\Temp\\ipykernel_52484\\2505580878.py:17: DtypeWarning: Columns (0,1,5,7,8,13,18,23,28,29,30,33,54,63,67,69,73,78,80,81,95,96,98,99,100,101,103,104,105,106,108,109,110,111,113,114,115,116,118,119,120,121,123,124,125,126,128,129,130,131,133,134,135,136,138,139,148,149,160) have mixed types. Specify dtype option on import or set low_memory=False.\n",
      "  df = pd.read_csv(file)\n"
     ]
    },
    {
     "name": "stdout",
     "output_type": "stream",
     "text": [
      "dataset_facebook-comments-scraper_2025-05-20_13-39-52-402.csv : 10890 lignes\n"
     ]
    },
    {
     "name": "stderr",
     "output_type": "stream",
     "text": [
      "C:\\Users\\azizb\\AppData\\Local\\Temp\\ipykernel_52484\\2505580878.py:17: DtypeWarning: Columns (0,1,5,7,8,13,23,28,29,30,33,36,55,58,68,74,78,80,86,87,88,89,92,93,95,97,98,99,101,102,104,105,106,108,109,110,111,113,114,115,116,118,119,120,121,123,124,125,126,128,129,130,131,133,134,135,136,138,139,140,141,143,144,145,146,148,149,150,151,153,154,155,156,158,159,168,169,180) have mixed types. Specify dtype option on import or set low_memory=False.\n",
      "  df = pd.read_csv(file)\n"
     ]
    },
    {
     "name": "stdout",
     "output_type": "stream",
     "text": [
      "dataset_facebook-comments-scraper_2025-05-20_13-51-16-697.csv : 18009 lignes\n"
     ]
    },
    {
     "name": "stderr",
     "output_type": "stream",
     "text": [
      "C:\\Users\\azizb\\AppData\\Local\\Temp\\ipykernel_52484\\2505580878.py:17: DtypeWarning: Columns (0,1,5,7,8,9,11,12,18,19,20,21,23,25,26,27,28,29,30,31,33,36,48,49,50,51,52,53,54,55,56,57,58,59,60,71,72,73,77,79,83,84,85,86,87,88,89,90,92,93,94,96,97,98,99,101,102,103,104,106,107,108,109,111,112,113,114,116,117,118,119,121,122,123,124,126,127,128,129,131,132,133,134,136,137,138,139,141,142,143,144,146,147,149,150,151,152,153,154,156,157,158,168) have mixed types. Specify dtype option on import or set low_memory=False.\n",
      "  df = pd.read_csv(file)\n"
     ]
    },
    {
     "name": "stdout",
     "output_type": "stream",
     "text": [
      "dataset_facebook-comments-scraper_2025-05-20_14-03-54-289.csv : 12081 lignes\n"
     ]
    },
    {
     "name": "stderr",
     "output_type": "stream",
     "text": [
      "C:\\Users\\azizb\\AppData\\Local\\Temp\\ipykernel_52484\\2505580878.py:17: DtypeWarning: Columns (0,1,5,7,8,9,11,12,18,19,20,21,23,25,26,27,28,29,30,31,33,36,48,49,50,51,52,53,54,55,56,57,58,59,72,73,77,82,83,84,86,87,89,90,91,92,94,95,96,97,99,100,101,102,104,105,106,107,109,110,111,112,114,115,116,117,119,120,121,122,124,125,127,128,129,130,131,132,134,135,136,146) have mixed types. Specify dtype option on import or set low_memory=False.\n",
      "  df = pd.read_csv(file)\n"
     ]
    },
    {
     "name": "stdout",
     "output_type": "stream",
     "text": [
      "dataset_facebook-comments-scraper_2025-05-21_13-49-12-967.csv : 24300 lignes\n"
     ]
    },
    {
     "name": "stderr",
     "output_type": "stream",
     "text": [
      "C:\\Users\\azizb\\AppData\\Local\\Temp\\ipykernel_52484\\2505580878.py:17: DtypeWarning: Columns (0,1,5,7,8,18,28,29,30,33,36,55,60,72,74,80,84,86,87,88,89,92,93,95,97,98,99,101,102,104,125) have mixed types. Specify dtype option on import or set low_memory=False.\n",
      "  df = pd.read_csv(file)\n"
     ]
    },
    {
     "name": "stdout",
     "output_type": "stream",
     "text": [
      "dataset_facebook-comments-scraper_2025-05-21_14-15-05-306.csv : 25701 lignes\n"
     ]
    },
    {
     "name": "stderr",
     "output_type": "stream",
     "text": [
      "C:\\Users\\azizb\\AppData\\Local\\Temp\\ipykernel_52484\\2505580878.py:17: DtypeWarning: Columns (0,1,5,7,8,9,11,12,18,19,20,21,23,25,26,27,29,31,34,46,47,48,49,50,51,52,53,54,55,56,57,58,70,71,76,78,82,84,85,86,87,90,91,93,95,96,97,99,100,102,103,104,106,107,108,109,111,112,113,114,116,117,118,119,121,122,123,124,126,127,128,129,131,132,133,134,136,137,138,139,141,142,143,144,146,147,148,149,151,152,154,155,156,157,158,159,161,162,163,173) have mixed types. Specify dtype option on import or set low_memory=False.\n",
      "  df = pd.read_csv(file)\n"
     ]
    },
    {
     "name": "stdout",
     "output_type": "stream",
     "text": [
      "dataset_facebook-comments-scraper_2025-05-21_14-32-34-504.csv : 46309 lignes\n"
     ]
    },
    {
     "name": "stderr",
     "output_type": "stream",
     "text": [
      "C:\\Users\\azizb\\AppData\\Local\\Temp\\ipykernel_52484\\2505580878.py:17: DtypeWarning: Columns (0,1,5,7,8,9,11,12,18,19,20,21,23,25,26,27,29,31,34,46,47,48,49,50,51,52,53,54,55,56,57,58,70,71,76,78,82,84,85,86,87,90,91,93,95,96,97,99,100,102,103,104,106,107,108,109,111,112,113,114,116,117,118,119,121,122,123,124,126,127,128,129,131,132,133,134,136,137,138,139,141,142,143,144,146,147,148,149,151,152,154,155,156,157,158,159,161,162,163,173) have mixed types. Specify dtype option on import or set low_memory=False.\n",
      "  df = pd.read_csv(file)\n"
     ]
    },
    {
     "name": "stdout",
     "output_type": "stream",
     "text": [
      "dataset_facebook-comments-scraper_2025-05-21_15-00-14-112.csv : 42039 lignes\n",
      "dataset_facebook-comments-scraper_2025-05-21_15-25-27-542.csv : 23015 lignes\n",
      "\n",
      "Nombre total cumulé de lignes (tous fichiers) : 310784\n"
     ]
    },
    {
     "name": "stderr",
     "output_type": "stream",
     "text": [
      "C:\\Users\\azizb\\AppData\\Local\\Temp\\ipykernel_52484\\2505580878.py:17: DtypeWarning: Columns (0,1,5,7,8,9,11,12,18,19,20,21,25,26,27,29,31,34,46,47,48,49,50,51,52,53,54,55,56,57,65,67,69,75,76,81,84,88,90,91,92,93,96,97,99,101,102,103,105,106,108,110,111,112,113,114,115,117,118,119,129) have mixed types. Specify dtype option on import or set low_memory=False.\n",
      "  df = pd.read_csv(file)\n"
     ]
    }
   ],
   "source": [
    "import pandas as pd\n",
    "import os\n",
    "import glob\n",
    "\n",
    "# Dossier contenant les fichiers\n",
    "folder_path = r\"D:\\PFE\\scrap_comments\"\n",
    "\n",
    "# Récupérer tous les fichiers CSV correspondants\n",
    "csv_files = glob.glob(os.path.join(folder_path, \"dataset_facebook-comments-scraper_*.csv\"))\n",
    "\n",
    "# Initialiser le total cumulé\n",
    "total_lines = 0\n",
    "\n",
    "# Parcourir les fichiers et compter les lignes avec pandas\n",
    "for file in csv_files:\n",
    "    try:\n",
    "        df = pd.read_csv(file)\n",
    "        num_rows = len(df)\n",
    "        total_lines += num_rows\n",
    "        print(f\"{os.path.basename(file)} : {num_rows} lignes\")\n",
    "    except Exception as e:\n",
    "        print(f\"Erreur lors de la lecture de {file} : {e}\")\n",
    "\n",
    "# Afficher le total cumulé\n",
    "print(f\"\\nNombre total cumulé de lignes (tous fichiers) : {total_lines}\")\n"
   ]
  },
  {
   "cell_type": "code",
   "execution_count": null,
   "id": "970ada44",
   "metadata": {},
   "outputs": [],
   "source": []
  }
 ],
 "metadata": {
  "kernelspec": {
   "display_name": ".fbscrapenv",
   "language": "python",
   "name": "python3"
  },
  "language_info": {
   "codemirror_mode": {
    "name": "ipython",
    "version": 3
   },
   "file_extension": ".py",
   "mimetype": "text/x-python",
   "name": "python",
   "nbconvert_exporter": "python",
   "pygments_lexer": "ipython3",
   "version": "3.12.8"
  }
 },
 "nbformat": 4,
 "nbformat_minor": 5
}
