{
 "cells": [
  {
   "cell_type": "code",
   "execution_count": 1,
   "id": "d1b711d0",
   "metadata": {},
   "outputs": [
    {
     "name": "stdout",
     "output_type": "stream",
     "text": [
      "Tor is working.\n"
     ]
    }
   ],
   "source": [
    "%reset -f\n",
    "import requests\n",
    "\n",
    "# Set up Tor proxy\n",
    "tor_proxy = \"socks5://127.0.0.1:9050\"\n",
    "proxies = {\n",
    "    \"http\": tor_proxy,\n",
    "    \"https\": tor_proxy,\n",
    "}\n",
    "\n",
    "# Check if Tor is working by making a request to the official Tor check website\n",
    "try:\n",
    "    response = requests.get(\"https://check.torproject.org\", proxies=proxies)\n",
    "    if \"Congratulations. This browser is configured to use Tor.\" in response.text:\n",
    "        print(\"Tor is working.\")\n",
    "    else:\n",
    "        print(\"Tor is not working.\")\n",
    "except requests.exceptions.RequestException as e:\n",
    "    print(\"Tor is not working:\", e)"
   ]
  },
  {
   "cell_type": "code",
   "execution_count": 4,
   "id": "7ed22eaf",
   "metadata": {},
   "outputs": [
    {
     "name": "stdout",
     "output_type": "stream",
     "text": [
      "Data saved to ./scraped_data\\6a5a76042257292fb3373f403c02540a_2025-05-19.txt\n"
     ]
    }
   ],
   "source": [
    "# Ce que fait le code Python (canevas explicatif)\n",
    "\n",
    "# 1. Suppression de toutes les variables en mémoire (utile dans un notebook)\n",
    "%reset -f\n",
    "\n",
    "# 2. Importation des bibliothèques nécessaires\n",
    "from datetime import datetime\n",
    "import os\n",
    "import hashlib\n",
    "from selenium import webdriver\n",
    "from selenium.webdriver.common.by import By\n",
    "from selenium.webdriver.chrome.service import Service\n",
    "from webdriver_manager.chrome import ChromeDriverManager\n",
    "from selenium.webdriver.chrome.options import Options\n",
    "from selenium.webdriver.support.ui import WebDriverWait\n",
    "from selenium.webdriver.support import expected_conditions as EC\n",
    "import time\n",
    "from selenium.webdriver.common.action_chains import ActionChains\n",
    "from selenium.webdriver.common.keys import Keys\n",
    "\n",
    "# 3. Configuration du proxy Tor\n",
    "# Tor doit être en cours d'exécution sur le port 9050\n",
    "# Le trafic Web passera par le réseau Tor pour garantir l'anonymat\n",
    "\n",
    "# Création d'une URL de proxy SOCKS5 pointant vers le client Tor\n",
    "tor_proxy = \"socks5://127.0.0.1:9050\"\n",
    "\n",
    "# 4. Configuration de Chrome pour utiliser le proxy Tor\n",
    "chrome_options = Options()\n",
    "chrome_options.add_argument(f\"--proxy-server={tor_proxy}\")\n",
    "\n",
    "# 5. Lancement de Chrome avec les options spécifiées\n",
    "# Utilise WebDriver Manager pour installer automatiquement le bon driver\n",
    "\n",
    "driver = webdriver.Chrome(service=Service(ChromeDriverManager().install()), options=chrome_options)\n",
    "\n",
    "# 6. Navigation vers une publication Facebook précise\n",
    "url_post = \"https://www.facebook.com/Hespress/posts/pfbid021ekyH7772jfUY2QgJm4DUSxjf3EqPrjvHL3851jfASVYuUHRubxmWtustmc8S1Asl\"\n",
    "driver.get(url_post)\n",
    "\n",
    "# 7. Pause manuelle pour permettre à l'utilisateur d'accepter les cookies ou de se connecter si besoin\n",
    "input(\"Press Enter to continue...\")\n",
    "\n",
    "\n",
    "# Click the <div> element with 'Allow all cookies'\n",
    "# allow_cookies_span = driver.find_element(By.XPATH, '//span[contains(text(), \"Allow all cookies\")]')\n",
    "# ActionChains(driver).move_to_element(allow_cookies_span).click().perform()\n",
    "\n",
    "# 8. Cliquer sur tous les boutons \"See more\" pour déployer le texte complet des commentaires\n",
    "see_more_divs = driver.find_elements(By.XPATH, '//div[text()=\"See more\"]')\n",
    "for div in see_more_divs:\n",
    "    div.click()\n",
    "\n",
    "# 9. Attendre 5 secondes pour laisser le temps au DOM de se mettre à jour\n",
    "# (devrait être remplacé par WebDriverWait pour plus de robustesse)\n",
    "time.sleep(5)\n",
    "\n",
    "# 10. Extraction de tous les <div> contenant un style avec \"text-align:\" (correspond aux commentaires)\n",
    "div_elements = driver.find_elements(By.XPATH, '//div[contains(@style, \"text-align:\")]')\n",
    "\n",
    "# 11. Récupération du texte brut de tous ces divs\n",
    "all_text = [div.text for div in div_elements]\n",
    "\n",
    "# 12. Sauvegarde des commentaires extraits dans un fichier texte\n",
    "# Le nom de fichier est basé sur un hash MD5 du contenu + la date\n",
    "current_date = datetime.now().strftime(\"%Y-%m-%d\")\n",
    "output_dir = \"./scraped_data\"\n",
    "os.makedirs(output_dir, exist_ok=True)\n",
    "\n",
    "content_hash = hashlib.md5(\"\\n\".join(all_text).encode()).hexdigest()\n",
    "output_file = os.path.join(output_dir, f\"{content_hash}_{current_date}.txt\")\n",
    "\n",
    "with open(output_file, \"w\", encoding=\"utf-8\") as file:\n",
    "    file.write(\"\\n\".join(all_text))\n",
    "\n",
    "print(f\"Data saved to {output_file}\")\n",
    "\n",
    "# 13. Fermeture du navigateur\n",
    "driver.quit()\n"
   ]
  },
  {
   "cell_type": "code",
   "execution_count": null,
   "id": "17c76eef",
   "metadata": {},
   "outputs": [],
   "source": []
  }
 ],
 "metadata": {
  "kernelspec": {
   "display_name": ".fbscrapenv",
   "language": "python",
   "name": "python3"
  },
  "language_info": {
   "codemirror_mode": {
    "name": "ipython",
    "version": 3
   },
   "file_extension": ".py",
   "mimetype": "text/x-python",
   "name": "python",
   "nbconvert_exporter": "python",
   "pygments_lexer": "ipython3",
   "version": "3.12.8"
  }
 },
 "nbformat": 4,
 "nbformat_minor": 5
}
