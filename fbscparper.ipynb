{
 "cells": [
  {
   "cell_type": "code",
   "execution_count": 1,
   "id": "d1b711d0",
   "metadata": {},
   "outputs": [
    {
     "name": "stdout",
     "output_type": "stream",
     "text": [
      "Tor is not working: SOCKSHTTPSConnectionPool(host='check.torproject.org', port=443): Max retries exceeded with url: / (Caused by NewConnectionError('<urllib3.contrib.socks.SOCKSHTTPSConnection object at 0x000001A988D37950>: Failed to establish a new connection: [WinError 10061] No connection could be made because the target machine actively refused it'))\n"
     ]
    }
   ],
   "source": [
    "%reset -f\n",
    "import requests\n",
    "\n",
    "# Set up Tor proxy\n",
    "tor_proxy = \"socks5://127.0.0.1:9050\"\n",
    "proxies = {\n",
    "    \"http\": tor_proxy,\n",
    "    \"https\": tor_proxy,\n",
    "}\n",
    "\n",
    "# Check if Tor is working by making a request to the official Tor check website\n",
    "try:\n",
    "    response = requests.get(\"https://check.torproject.org\", proxies=proxies)\n",
    "    if \"Congratulations. This browser is configured to use Tor.\" in response.text:\n",
    "        print(\"Tor is working.\")\n",
    "    else:\n",
    "        print(\"Tor is not working.\")\n",
    "except requests.exceptions.RequestException as e:\n",
    "    print(\"Tor is not working:\", e)"
   ]
  },
  {
   "cell_type": "code",
   "execution_count": null,
   "id": "7ed22eaf",
   "metadata": {},
   "outputs": [],
   "source": []
  }
 ],
 "metadata": {
  "kernelspec": {
   "display_name": ".fbscrapenv",
   "language": "python",
   "name": "python3"
  },
  "language_info": {
   "codemirror_mode": {
    "name": "ipython",
    "version": 3
   },
   "file_extension": ".py",
   "mimetype": "text/x-python",
   "name": "python",
   "nbconvert_exporter": "python",
   "pygments_lexer": "ipython3",
   "version": "3.12.8"
  }
 },
 "nbformat": 4,
 "nbformat_minor": 5
}
